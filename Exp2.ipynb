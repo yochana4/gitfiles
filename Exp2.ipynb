{
  "nbformat": 4,
  "nbformat_minor": 0,
  "metadata": {
    "colab": {
      "provenance": [],
      "authorship_tag": "ABX9TyOSquhu+be19yTOyf59lr3u",
      "include_colab_link": true
    },
    "kernelspec": {
      "name": "python3",
      "display_name": "Python 3"
    },
    "language_info": {
      "name": "python"
    }
  },
  "cells": [
    {
      "cell_type": "markdown",
      "metadata": {
        "id": "view-in-github",
        "colab_type": "text"
      },
      "source": [
        "<a href=\"https://colab.research.google.com/github/yochana4/gitfiles/blob/main/Exp2.ipynb\" target=\"_parent\"><img src=\"https://colab.research.google.com/assets/colab-badge.svg\" alt=\"Open In Colab\"/></a>"
      ]
    },
    {
      "cell_type": "markdown",
      "source": [
        "Write a program for Accessing/Importing and Exporting data."
      ],
      "metadata": {
        "id": "5yxBSevt0OJP"
      }
    },
    {
      "cell_type": "code",
      "execution_count": null,
      "metadata": {
        "colab": {
          "base_uri": "https://localhost:8080/",
          "height": 35
        },
        "id": "FSDlLNgmMzhu",
        "outputId": "2a7fca39-1cb0-4156-d580-220c8d1adc4e"
      },
      "outputs": [
        {
          "output_type": "execute_result",
          "data": {
            "text/plain": [
              "'/content'"
            ],
            "application/vnd.google.colaboratory.intrinsic+json": {
              "type": "string"
            }
          },
          "metadata": {},
          "execution_count": 1
        }
      ],
      "source": [
        "pwd"
      ]
    },
    {
      "cell_type": "code",
      "source": [
        "import pandas as pd\n",
        "data=pd.read_excel(\"Sample.xlsx\",index_col=0)\n",
        "print(data)\n",
        "print('First 5 rows')\n",
        "print(data.head(5))\n",
        "data.head(5).to_excel(\"test.xlsx\",index=True)"
      ],
      "metadata": {
        "colab": {
          "base_uri": "https://localhost:8080/"
        },
        "id": "p-11mk5cN506",
        "outputId": "16459f87-f4e5-4bd1-ca0a-56fa108d1072"
      },
      "execution_count": null,
      "outputs": [
        {
          "output_type": "stream",
          "name": "stdout",
          "text": [
            "      RollNo     Name  CGPA    Address\n",
            "S.No                                  \n",
            "1       1201   Mahesh   9.8        hyd\n",
            "2       1202    Arjun   8.9    chennai\n",
            "3       1203   Ramana   9.3  bangalore\n",
            "4       1204  Bharath   9.2    kolkata\n",
            "5       1205     Ajay   7.8      kochi\n",
            "6       1206   Murari   9.7    allepey\n",
            "7       1207   Harsha   8.8     odisha\n",
            "8       1208    Surya   8.5     mumbai\n",
            "9       1209     Mahi   7.6        USA\n",
            "10      1210    Rishi   9.2        Aus\n",
            "First 5 rows\n",
            "      RollNo     Name  CGPA    Address\n",
            "S.No                                  \n",
            "1       1201   Mahesh   9.8        hyd\n",
            "2       1202    Arjun   8.9    chennai\n",
            "3       1203   Ramana   9.3  bangalore\n",
            "4       1204  Bharath   9.2    kolkata\n",
            "5       1205     Ajay   7.8      kochi\n"
          ]
        }
      ]
    }
  ]
}
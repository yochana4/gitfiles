{
  "nbformat": 4,
  "nbformat_minor": 0,
  "metadata": {
    "colab": {
      "provenance": [],
      "authorship_tag": "ABX9TyOPpkt0OIF9VNV47u+QPEfm",
      "include_colab_link": true
    },
    "kernelspec": {
      "name": "python3",
      "display_name": "Python 3"
    },
    "language_info": {
      "name": "python"
    }
  },
  "cells": [
    {
      "cell_type": "markdown",
      "metadata": {
        "id": "view-in-github",
        "colab_type": "text"
      },
      "source": [
        "<a href=\"https://colab.research.google.com/github/yochana4/gitfiles/blob/main/exp5.ipynb\" target=\"_parent\"><img src=\"https://colab.research.google.com/assets/colab-badge.svg\" alt=\"Open In Colab\"/></a>"
      ]
    },
    {
      "cell_type": "markdown",
      "source": [
        "**Apply Basic Statistical Methods on Sample Datasets.**"
      ],
      "metadata": {
        "id": "WHUNDuXMDEWg"
      }
    },
    {
      "cell_type": "code",
      "execution_count": null,
      "metadata": {
        "id": "kSQuU0T9KHgX",
        "outputId": "c6dd6843-4b91-45e4-8254-816ad0865c14",
        "colab": {
          "base_uri": "https://localhost:8080/"
        }
      },
      "outputs": [
        {
          "output_type": "stream",
          "name": "stdout",
          "text": [
            "Mean height: 244.63636363636363\n",
            "Mean scores: 88.84615384615384\n",
            "Median height: 250.0\n",
            "Median scores: 90.0\n",
            "Mode height(s): 205\n",
            "Mode scores(s): 85\n",
            "Variance of height: 1044.0495867768595\n",
            "Standard deviation of height: 32.311756169803886\n",
            "Variance of scores: 18.899408284023668\n",
            "Standard deviation of scores: 4.347344969521474\n",
            "Range of height: 89\n",
            "Range of scores: 17\n",
            "Correlation between height and weight: 0.5098105140769509\n"
          ]
        }
      ],
      "source": [
        "import numpy as np\n",
        "from scipy import stats\n",
        "\n",
        "# Updated sample dataset of heights (in centimeters) of students with odd values and two modes\n",
        "heights = [200,205,289,250,264,205,245,289,262,270,212]\n",
        "\n",
        "# Updated sample dataset of exam scores of students with odd values and two modes\n",
        "exam_scores = [85, 90, 85, 78, 92, 90, 95, 91, 89, 93, 90, 85, 92]\n",
        "\n",
        "mean_height = np.mean(heights)\n",
        "mean_scores = np.mean(exam_scores)\n",
        "\n",
        "print(\"Mean height:\", mean_height)\n",
        "print(\"Mean scores:\", mean_scores)\n",
        "\n",
        "median_height = np.median(heights)\n",
        "median_scores = np.median(exam_scores)\n",
        "\n",
        "print(\"Median height:\", median_height)\n",
        "print(\"Median scores:\", median_scores)\n",
        "\n",
        "# Calculate modes and handle multiple modes\n",
        "mode_height = stats.mode(heights)\n",
        "mode_scores = stats.mode(exam_scores)\n",
        "\n",
        "print(\"Mode height(s):\", mode_height.mode)\n",
        "print(\"Mode scores(s):\", mode_scores.mode)\n",
        "\n",
        "variance_height = np.var(heights)\n",
        "std_deviation_height = np.std(heights)\n",
        "\n",
        "variance_scores = np.var(exam_scores)\n",
        "std_deviation_scores = np.std(exam_scores)\n",
        "\n",
        "print(\"Variance of height:\", variance_height)\n",
        "print(\"Standard deviation of height:\", std_deviation_height)\n",
        "print(\"Variance of scores:\", variance_scores)\n",
        "print(\"Standard deviation of scores:\", std_deviation_scores)\n",
        "\n",
        "range_height = np.max(heights) - np.min(heights)\n",
        "range_scores = np.max(exam_scores) - np.min(exam_scores)\n",
        "\n",
        "print(\"Range of height:\", range_height)\n",
        "print(\"Range of scores:\", range_scores)\n",
        "\n",
        "# Assuming we have another dataset of weights (in kg) of students\n",
        "weights = [50, 55, 60, 45, 55, 52, 70, 65, 58, 65, 55]\n",
        "\n",
        "correlation_height_weight = np.corrcoef(heights, weights)[0, 1]\n",
        "\n",
        "print(\"Correlation between height and weight:\", correlation_height_weight)"
      ]
    }
  ]
}
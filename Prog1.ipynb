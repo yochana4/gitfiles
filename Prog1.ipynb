{
  "nbformat": 4,
  "nbformat_minor": 0,
  "metadata": {
    "colab": {
      "provenance": [],
      "authorship_tag": "ABX9TyOSloUCGDsBvgmUIJPeug+B",
      "include_colab_link": true
    },
    "kernelspec": {
      "name": "python3",
      "display_name": "Python 3"
    },
    "language_info": {
      "name": "python"
    }
  },
  "cells": [
    {
      "cell_type": "markdown",
      "metadata": {
        "id": "view-in-github",
        "colab_type": "text"
      },
      "source": [
        "<a href=\"https://colab.research.google.com/github/yochana4/gitfiles/blob/main/Prog1.ipynb\" target=\"_parent\"><img src=\"https://colab.research.google.com/assets/colab-badge.svg\" alt=\"Open In Colab\"/></a>"
      ]
    },
    {
      "cell_type": "code",
      "execution_count": null,
      "metadata": {
        "id": "7RNXqZoEAKYU"
      },
      "outputs": [],
      "source": []
    },
    {
      "cell_type": "code",
      "source": [],
      "metadata": {
        "id": "RW02BclNAp9l"
      },
      "execution_count": null,
      "outputs": []
    },
    {
      "cell_type": "markdown",
      "source": [],
      "metadata": {
        "id": "0m8pd4_uA1HN"
      }
    },
    {
      "cell_type": "markdown",
      "source": [
        "**1a)Write a program to create a list,manipulate and slices it.**\n"
      ],
      "metadata": {
        "id": "5BM_MM93G8io"
      }
    },
    {
      "cell_type": "code",
      "source": [
        "my_list=[1,2,3,4,5,6,7,8,9,10]\n",
        "my_list.append(11)\n",
        "my_list.extend([12,13,14])\n",
        "my_list.remove(5)\n",
        "my_list.pop(0)\n",
        "slice1=my_list[4:8]\n",
        "slice2=my_list[4:]\n",
        "slice3=my_list[:6]\n",
        "print(\"Original list:\",my_list)\n",
        "print(\"sliced list1:\",slice1)\n",
        "print(\"sliced list2:\",slice2)\n",
        "print(\"sliced list3:\",slice3)"
      ],
      "metadata": {
        "colab": {
          "base_uri": "https://localhost:8080/"
        },
        "id": "7YMXc_IeBGa_",
        "outputId": "5e25cb52-3094-4723-d40e-3c66df937bf2"
      },
      "execution_count": null,
      "outputs": [
        {
          "output_type": "stream",
          "name": "stdout",
          "text": [
            "Original list: [2, 3, 4, 6, 7, 8, 9, 10, 11, 12, 13, 14]\n",
            "sliced list1: [7, 8, 9, 10]\n",
            "sliced list2: [7, 8, 9, 10, 11, 12, 13, 14]\n",
            "sliced list3: [2, 3, 4, 6, 7, 8]\n"
          ]
        }
      ]
    },
    {
      "cell_type": "markdown",
      "source": [
        "**1b) Create a new list and add elements to it from another list, also create a matrix from two lists.**\n"
      ],
      "metadata": {
        "id": "VxGKQFu4J8sW"
      }
    },
    {
      "cell_type": "code",
      "source": [
        "new_list=[]\n",
        "other_list=[15,16,17,18,19]\n",
        "new_list.extend(other_list[:3])\n",
        "list1=[1,2,3]\n",
        "list2=[4,5,6]\n",
        "matrix=[list1,list2]\n",
        "print(\"New list:\",new_list)\n",
        "print(\"Matrix:\")\n",
        "for row in matrix:\n",
        "  print(row)"
      ],
      "metadata": {
        "colab": {
          "base_uri": "https://localhost:8080/"
        },
        "id": "wsmbMe91Pxae",
        "outputId": "05ea4e37-6e30-43ee-d891-876c5a29533e"
      },
      "execution_count": null,
      "outputs": [
        {
          "output_type": "stream",
          "name": "stdout",
          "text": [
            "New list: [15, 16, 17]\n",
            "Matrix:\n",
            "[1, 2, 3]\n",
            "[4, 5, 6]\n"
          ]
        }
      ]
    },
    {
      "cell_type": "markdown",
      "source": [
        "**1c)Create same a,b steps for Tuple, Dictionary.**"
      ],
      "metadata": {
        "id": "OQZPpvCnKaju"
      }
    },
    {
      "cell_type": "code",
      "source": [
        "my_tuple=(1,2,3,4,5,6,7,8,9,10)\n",
        "slice1=my_tuple[2:6]\n",
        "slice2=my_tuple[:4]\n",
        "slice3=my_tuple[4:]\n",
        "print(\"Original tuple:\",my_tuple)\n",
        "print(\"sliced tuple1:\",slice1)\n",
        "print(\"sliced tuple2:\",slice2)\n",
        "print(\"sliced tuple3:\",slice3)"
      ],
      "metadata": {
        "colab": {
          "base_uri": "https://localhost:8080/"
        },
        "id": "SD4DXtOKQ_-G",
        "outputId": "99fcfbfe-fb87-4d3e-cd78-163a2d3e4be1"
      },
      "execution_count": null,
      "outputs": [
        {
          "output_type": "stream",
          "name": "stdout",
          "text": [
            "Original tuple: (1, 2, 3, 4, 5, 6, 7, 8, 9, 10)\n",
            "sliced tuple1: (3, 4, 5, 6)\n",
            "sliced tuple2: (1, 2, 3, 4)\n",
            "sliced tuple3: (5, 6, 7, 8, 9, 10)\n"
          ]
        }
      ]
    },
    {
      "cell_type": "code",
      "source": [
        "my_dict={'a':1,'b':2,'c':3}\n",
        "my_dict['d']=4\n",
        "my_dict.update({'e':5,'f':6,'g':7})\n",
        "del my_dict['a']\n",
        "my_dict.pop('b')\n",
        "print(\"Manuipulated dictionary:\",my_dict)\n",
        "new_dict={}\n",
        "other_dict={'g':8,'h':9,'i':10}\n",
        "new_dict.update(other_dict)\n",
        "dict1={'x':10,'y':50}\n",
        "dict2={'x':40,'y':60}\n",
        "matrix_of_dicts=[dict1,dict2]\n",
        "print(\"New Dictionary:\",new_dict)\n",
        "print(\"Matrix of dictionaries:\")\n",
        "for item in matrix_of_dicts:\n",
        "  print(item)"
      ],
      "metadata": {
        "id": "4U2SXixSR-tQ",
        "colab": {
          "base_uri": "https://localhost:8080/"
        },
        "outputId": "2cd1ac53-f044-44ec-8c99-d995797c1705"
      },
      "execution_count": null,
      "outputs": [
        {
          "output_type": "stream",
          "name": "stdout",
          "text": [
            "Manuipulated dictionary: {'c': 3, 'd': 4, 'e': 5, 'f': 6, 'g': 7}\n",
            "New Dictionary: {'g': 8, 'h': 9, 'i': 10}\n",
            "Matrix of dictionaries:\n",
            "{'x': 10, 'y': 50}\n",
            "{'x': 40, 'y': 60}\n"
          ]
        }
      ]
    }
  ]
}
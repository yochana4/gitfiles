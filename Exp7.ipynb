{
  "nbformat": 4,
  "nbformat_minor": 0,
  "metadata": {
    "colab": {
      "provenance": [],
      "authorship_tag": "ABX9TyO9oIFelH20VsuFBn+aM4Ub",
      "include_colab_link": true
    },
    "kernelspec": {
      "name": "python3",
      "display_name": "Python 3"
    },
    "language_info": {
      "name": "python"
    }
  },
  "cells": [
    {
      "cell_type": "markdown",
      "metadata": {
        "id": "view-in-github",
        "colab_type": "text"
      },
      "source": [
        "<a href=\"https://colab.research.google.com/github/yochana4/gitfiles/blob/main/Exp7.ipynb\" target=\"_parent\"><img src=\"https://colab.research.google.com/assets/colab-badge.svg\" alt=\"Open In Colab\"/></a>"
      ]
    },
    {
      "cell_type": "markdown",
      "source": [
        "Given the Iris Dataset\n",
        "1. How many rows does it contain? How many columns?\n",
        "2. Compute the average petal Length.\n",
        "3. Compute the average of all Numerical Columns?\n"
      ],
      "metadata": {
        "id": "icKnPxWG-_m_"
      }
    },
    {
      "cell_type": "code",
      "execution_count": null,
      "metadata": {
        "colab": {
          "base_uri": "https://localhost:8080/",
          "height": 36
        },
        "id": "95wDNrgAsh0w",
        "outputId": "fd3f01a6-7bd0-4630-9698-3f612b57d56f"
      },
      "outputs": [
        {
          "output_type": "execute_result",
          "data": {
            "text/plain": [
              "'/content'"
            ],
            "application/vnd.google.colaboratory.intrinsic+json": {
              "type": "string"
            }
          },
          "metadata": {},
          "execution_count": 1
        }
      ],
      "source": [
        "pwd\n"
      ]
    },
    {
      "cell_type": "code",
      "source": [
        "import pandas as pd\n",
        "\n",
        "# Load the dataset into a DataFrame\n",
        "df = pd.read_csv(\"iris data final.csv\")\n",
        "print(df)\n",
        "\n",
        "# Get the number of rows and columns\n",
        "num_rows = df.shape[0]\n",
        "num_columns = df.shape[1]\n",
        "\n",
        "print(\"Number of rows:\", num_rows)\n",
        "print(\"Number of columns:\", num_columns)\n",
        "\n",
        "# Calculate the average petal length\n",
        "\n",
        "average_petal_length = df['petal length'].mean()\n",
        "\n",
        "print(\"Average petal length:\", average_petal_length)\n",
        "\n",
        "# Calculate the average of all numerical columns\n",
        "averages = df.mean(numeric_only=True)\n",
        "\n",
        "print(\"Averages of numerical columns:\")\n",
        "print(averages)"
      ],
      "metadata": {
        "colab": {
          "base_uri": "https://localhost:8080/"
        },
        "id": "Jvm-cpRHtrHP",
        "outputId": "76e92174-743a-4266-9194-2f0754c42196"
      },
      "execution_count": null,
      "outputs": [
        {
          "output_type": "stream",
          "name": "stdout",
          "text": [
            "      Id  SepalLengthCm  SepalWidthCm  petal length  PetalWidthCm  \\\n",
            "0      1            5.1           3.5           1.4           0.2   \n",
            "1      2            4.9           3.0           1.4           0.2   \n",
            "2      3            4.7           3.2           1.3           0.2   \n",
            "3      4            4.6           3.1           1.5           0.2   \n",
            "4      5            5.0           3.6           1.4           0.2   \n",
            "..   ...            ...           ...           ...           ...   \n",
            "145  146            6.7           3.0           5.2           2.3   \n",
            "146  147            6.3           2.5           5.0           1.9   \n",
            "147  148            6.5           3.0           5.2           2.0   \n",
            "148  149            6.2           3.4           5.4           2.3   \n",
            "149  150            5.9           3.0           5.1           1.8   \n",
            "\n",
            "            Species  \n",
            "0       Iris-setosa  \n",
            "1       Iris-setosa  \n",
            "2       Iris-setosa  \n",
            "3       Iris-setosa  \n",
            "4       Iris-setosa  \n",
            "..              ...  \n",
            "145  Iris-virginica  \n",
            "146  Iris-virginica  \n",
            "147  Iris-virginica  \n",
            "148  Iris-virginica  \n",
            "149  Iris-virginica  \n",
            "\n",
            "[150 rows x 6 columns]\n",
            "Number of rows: 150\n",
            "Number of columns: 6\n",
            "Average petal length: 3.758666666666666\n",
            "Averages of numerical columns:\n",
            "Id               75.500000\n",
            "SepalLengthCm     5.843333\n",
            "SepalWidthCm      3.054000\n",
            "petal length      3.758667\n",
            "PetalWidthCm      1.198667\n",
            "dtype: float64\n"
          ]
        }
      ]
    }
  ]
}